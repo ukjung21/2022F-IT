{
 "cells": [
  {
   "cell_type": "code",
   "execution_count": 8,
   "id": "43244bc8",
   "metadata": {},
   "outputs": [],
   "source": [
    "import pandas as pd\n",
    "import numpy as np\n",
    "import requests\n",
    "from bs4 import BeautifulSoup\n",
    "from collections import defaultdict"
   ]
  },
  {
   "cell_type": "code",
   "execution_count": 51,
   "id": "ba87e67b",
   "metadata": {},
   "outputs": [],
   "source": [
    "df = pd.read_csv('/home/ukjung18/project/facilityClustered.csv')"
   ]
  },
  {
   "cell_type": "code",
   "execution_count": 66,
   "id": "44e68153",
   "metadata": {},
   "outputs": [],
   "source": [
    "lati=[]\n",
    "long=[]\n",
    "for _, r in df.iterrows():\n",
    "    y = r['WGS84위도']\n",
    "    x = r['WGS84경도']\n",
    "    stops = 'http://apis.data.go.kr/1613000/BusSttnInfoInqireService/getCrdntPrxmtSttnList?serviceKey=k9sTEVvsgPYra2RkrXzQSnQX0BROQsLNMk1yPFZEId7c76sfg8y8jsrg1oRRzaSt%2B4Gk7ijz0T%2BVcp0hDKNy3A%3D%3D&gpsLati='+str(y)+'&gpsLong='+str(x)+'&_type=xml'\n",
    "    response = requests.get(stops)\n",
    "    ns = response.content\n",
    "    fileName = \"/home/ukjung18/project/nearStops/stop\"+str(i)+\".xml\"\n",
    "    with open(fileName, \"wb\") as file:\n",
    "        file.write(ns)\n",
    "    fp = open(\"/home/ukjung18/project/nearStops/stop\"+str(i)+\".xml\",\"r\")\n",
    "    soup = BeautifulSoup(fp, \"html.parser\")\n",
    "    mindist = 1000\n",
    "    ny=0\n",
    "    nx=0\n",
    "    if not soup.findAll('item'):\n",
    "        continue\n",
    "    for item in soup.findAll('item'):\n",
    "        laty = float(item.gpslati.string)\n",
    "        longx = float(item.gpslong.string)\n",
    "        if ((y-laty)**2+(x-longx)**2) < mindist:\n",
    "            mindist = (y-laty)**2+(x-longx)**2\n",
    "            ny = laty\n",
    "            nx = longx\n",
    "    if (ny in lati) & (nx in long):\n",
    "        continue\n",
    "    lati.append(ny)\n",
    "    long.append(nx)"
   ]
  },
  {
   "cell_type": "code",
   "execution_count": 70,
   "id": "9afb119f",
   "metadata": {},
   "outputs": [
    {
     "data": {
      "text/plain": [
       "385"
      ]
     },
     "execution_count": 70,
     "metadata": {},
     "output_type": "execute_result"
    }
   ],
   "source": [
    "len(lati)"
   ]
  },
  {
   "cell_type": "code",
   "execution_count": 68,
   "id": "f244c44d",
   "metadata": {},
   "outputs": [
    {
     "data": {
      "text/plain": [
       "385"
      ]
     },
     "execution_count": 68,
     "metadata": {},
     "output_type": "execute_result"
    }
   ],
   "source": [
    "len(long)"
   ]
  },
  {
   "cell_type": "code",
   "execution_count": 69,
   "id": "bad2188c",
   "metadata": {},
   "outputs": [],
   "source": [
    "stopList = pd.DataFrame()\n",
    "stopList['x'] = long\n",
    "stopList['y'] = lati\n",
    "stopList.to_csv(\"/home/ukjung18/project/nearBusStop.csv\", mode='w', index=False)"
   ]
  },
  {
   "cell_type": "code",
   "execution_count": 53,
   "id": "79d013f7",
   "metadata": {},
   "outputs": [],
   "source": [
    "y=df.loc[20]['WGS84위도']\n",
    "x=df.loc[20]['WGS84경도']\n",
    "stops = 'http://apis.data.go.kr/1613000/BusSttnInfoInqireService/getCrdntPrxmtSttnList?serviceKey=k9sTEVvsgPYra2RkrXzQSnQX0BROQsLNMk1yPFZEId7c76sfg8y8jsrg1oRRzaSt%2B4Gk7ijz0T%2BVcp0hDKNy3A%3D%3D&gpsLati='+str(y)+'&gpsLong='+str(x)+'&_type=xml'\n",
    "response = requests.get(stops)\n",
    "ns = response.content\n",
    "fileName = \"/home/ukjung18/project/stop0.xml\"\n",
    "with open(fileName, \"wb\") as file:\n",
    "    file.write(ns)\n",
    "\n",
    "fp = open(\"/home/ukjung18/project/stop0.xml\",\"r\")\n",
    "soup = BeautifulSoup(fp, \"html.parser\")\n",
    "\n",
    "mindist = 1000\n",
    "ny=0\n",
    "nx=0\n",
    "for item in soup.findAll('item'):\n",
    "    laty = float(item.gpslati.string)\n",
    "    longx = float(item.gpslong.string)\n",
    "    if (y-laty)**2+(x-longx)**2 < mindist:\n",
    "        mindist = (y-laty)**2+(x-longx)**2\n",
    "        ny = laty\n",
    "        nx = longx"
   ]
  },
  {
   "cell_type": "code",
   "execution_count": 49,
   "id": "3cd77b3f",
   "metadata": {},
   "outputs": [
    {
     "data": {
      "text/plain": [
       "기관명        한국발도르프특수교육지원센터\n",
       "WGS84위도            37.532\n",
       "WGS84경도           127.456\n",
       "label                   3\n",
       "Name: 19, dtype: object"
      ]
     },
     "execution_count": 49,
     "metadata": {},
     "output_type": "execute_result"
    }
   ],
   "source": [
    "df.loc[19]"
   ]
  }
 ],
 "metadata": {
  "kernelspec": {
   "display_name": "Python 3",
   "language": "python",
   "name": "python3"
  },
  "language_info": {
   "codemirror_mode": {
    "name": "ipython",
    "version": 3
   },
   "file_extension": ".py",
   "mimetype": "text/x-python",
   "name": "python",
   "nbconvert_exporter": "python",
   "pygments_lexer": "ipython3",
   "version": "3.7.4"
  }
 },
 "nbformat": 4,
 "nbformat_minor": 5
}
