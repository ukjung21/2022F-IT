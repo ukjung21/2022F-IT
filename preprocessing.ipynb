{
 "cells": [
  {
   "cell_type": "code",
   "execution_count": 1,
   "id": "4e61ee4b",
   "metadata": {},
   "outputs": [],
   "source": [
    "import pandas as pd"
   ]
  },
  {
   "cell_type": "code",
   "execution_count": 93,
   "id": "5ae2cc62",
   "metadata": {},
   "outputs": [],
   "source": [
    "# 장애인 관련 시설 preprocessing\n",
    "rel = pd.read_csv('/home/ukjung18/project/related.csv', encoding='cp949')\n",
    "rel = rel.iloc[:,[1,5,6]]\n",
    "rel.dropna(inplace=True)"
   ]
  },
  {
   "cell_type": "code",
   "execution_count": 94,
   "id": "4dccc045",
   "metadata": {},
   "outputs": [],
   "source": [
    "rel.to_csv(\"rel.csv\", mode='w', index=False)"
   ]
  },
  {
   "cell_type": "code",
   "execution_count": 95,
   "id": "e3702354",
   "metadata": {},
   "outputs": [],
   "source": [
    "# 장애인 복지 시설 preprocessing\n",
    "wf = pd.read_csv('/home/ukjung18/project/welfare.csv', encoding='cp949')\n",
    "wf = wf[wf['시설구분명'] != '청각언어장애인시설']\n",
    "wf = wf.iloc[:,[2,6,7]]\n",
    "wf.dropna(inplace=True)"
   ]
  },
  {
   "cell_type": "code",
   "execution_count": 96,
   "id": "b7492b61",
   "metadata": {},
   "outputs": [],
   "source": [
    "wf.to_csv(\"wf.csv\", mode='w', index=False)"
   ]
  },
  {
   "cell_type": "code",
   "execution_count": 97,
   "id": "1b66f7c2",
   "metadata": {},
   "outputs": [],
   "source": [
    "# 병원 preprocessing\n",
    "gh = pd.read_csv('/home/ukjung18/project/generalHospital.csv', encoding='cp949')\n",
    "gh = gh[(gh['영업상태명'] == '영업중') & (gh['병상수(개)'] >= 100)]\n",
    "gh = gh.iloc[:,[1,14,15]]\n",
    "gh.dropna(inplace=True)"
   ]
  },
  {
   "cell_type": "code",
   "execution_count": 98,
   "id": "d9123fe1",
   "metadata": {},
   "outputs": [],
   "source": [
    "gh.to_csv(\"gh.csv\", mode='w', index=False)"
   ]
  },
  {
   "cell_type": "code",
   "execution_count": null,
   "id": "30e6f065",
   "metadata": {},
   "outputs": [],
   "source": []
  }
 ],
 "metadata": {
  "kernelspec": {
   "display_name": "Python 3",
   "language": "python",
   "name": "python3"
  },
  "language_info": {
   "codemirror_mode": {
    "name": "ipython",
    "version": 3
   },
   "file_extension": ".py",
   "mimetype": "text/x-python",
   "name": "python",
   "nbconvert_exporter": "python",
   "pygments_lexer": "ipython3",
   "version": "3.7.4"
  }
 },
 "nbformat": 4,
 "nbformat_minor": 5
}
