{
 "cells": [
  {
   "cell_type": "code",
   "execution_count": 2,
   "id": "c0e3af35",
   "metadata": {},
   "outputs": [],
   "source": [
    "import pandas as pd\n",
    "rt_cpt = pd.read_csv('/home/ukjung18/project/routeIdcpt.csv')"
   ]
  },
  {
   "cell_type": "code",
   "execution_count": 4,
   "id": "ea8aa9a1",
   "metadata": {},
   "outputs": [],
   "source": [
    "nbs = pd.read_csv('/home/ukjung18/project/nearBusStop.csv')"
   ]
  },
  {
   "cell_type": "code",
   "execution_count": 9,
   "id": "49602cbb",
   "metadata": {},
   "outputs": [],
   "source": [
    "# 13:수원, 2:고양, 11:부천, 15:안산, 12:성남, 28:평택, 14:시흥, 25:의정부, 27:파주, 17:안양\n",
    "cnt_13 = {}\n",
    "rt = list(rt_cpt['13'].dropna())\n",
    "rt_13 = list(map(int, rt))\n",
    "\n",
    "for j in rt_13:\n",
    "    cnt=0\n",
    "    stop = pd.read_csv('/home/ukjung18/project/busRoute/13/'+str(j)+'.csv')\n",
    "    for _, r in stop.iterrows():\n",
    "        for _, r1 in nbs.iterrows():\n",
    "            if (r['x'] == r1['x']) & (r['y'] == r1['y']):\n",
    "                cnt+=1\n",
    "    cnt_13[j] = cnt"
   ]
  },
  {
   "cell_type": "code",
   "execution_count": 12,
   "id": "f429bbec",
   "metadata": {},
   "outputs": [],
   "source": [
    "# 13:수원, 2:고양, 11:부천, 15:안산, 12:성남, 28:평택, 14:시흥, 25:의정부, 27:파주, 17:안양\n",
    "cnt_2 = {}\n",
    "rt = list(rt_cpt['2'].dropna())\n",
    "rt_2 = list(map(int, rt))\n",
    "\n",
    "for j in rt_2:\n",
    "    cnt=0\n",
    "    stop = pd.read_csv('/home/ukjung18/project/busRoute/2/'+str(j)+'.csv')\n",
    "    for _, r in stop.iterrows():\n",
    "        for _, r1 in nbs.iterrows():\n",
    "            if (r['x'] == r1['x']) & (r['y'] == r1['y']):\n",
    "                cnt+=1\n",
    "    cnt_2[j] = cnt"
   ]
  },
  {
   "cell_type": "code",
   "execution_count": 13,
   "id": "af6e1937",
   "metadata": {},
   "outputs": [],
   "source": [
    "# 13:수원, 2:고양, 11:부천, 15:안산, 12:성남, 28:평택, 14:시흥, 25:의정부, 27:파주, 17:안양\n",
    "cnt_11 = {}\n",
    "rt = list(rt_cpt['11'].dropna())\n",
    "rt_11 = list(map(int, rt))\n",
    "\n",
    "for j in rt_11:\n",
    "    cnt=0\n",
    "    stop = pd.read_csv('/home/ukjung18/project/busRoute/11/'+str(j)+'.csv')\n",
    "    for _, r in stop.iterrows():\n",
    "        for _, r1 in nbs.iterrows():\n",
    "            if (r['x'] == r1['x']) & (r['y'] == r1['y']):\n",
    "                cnt+=1\n",
    "    cnt_11[j] = cnt"
   ]
  },
  {
   "cell_type": "code",
   "execution_count": 15,
   "id": "116f32f7",
   "metadata": {},
   "outputs": [],
   "source": [
    "from collections import defaultdict"
   ]
  },
  {
   "cell_type": "code",
   "execution_count": 17,
   "id": "4273d984",
   "metadata": {},
   "outputs": [],
   "source": [
    "# 13:수원, 2:고양, 11:부천, 15:안산, 12:성남, 28:평택, 14:시흥, 25:의정부, 27:파주, 17:안양\n",
    "sim = [] # 각 지역의 노선별 겹치는 정류소 개수를 나타낸 list\n",
    "for i in [13, 2, 11, 15, 12, 28, 14, 25, 27, 17]:\n",
    "    cnt = {}\n",
    "    rt = list(rt_cpt[str(i)].dropna())\n",
    "    rt1 = list(map(int, rt))\n",
    "\n",
    "    for j in rt1:\n",
    "        same=0\n",
    "        stop = pd.read_csv('/home/ukjung18/project/busRoute/'+str(i)+'/'+str(j)+'.csv')\n",
    "        for _, r in stop.iterrows():\n",
    "            for _, r1 in nbs.iterrows():\n",
    "                if (r['x'] == r1['x']) & (r['y'] == r1['y']):\n",
    "                    same+=1\n",
    "        cnt[j] = same\n",
    "    sim.append(cnt)"
   ]
  },
  {
   "cell_type": "code",
   "execution_count": 35,
   "id": "ae394bc8",
   "metadata": {},
   "outputs": [],
   "source": [
    "selected_route = {}\n",
    "for i in range(10):\n",
    "    sorted_cnt = sorted(sim[i].items(), key = lambda item: item[1], reverse = True)\n",
    "    top=[]\n",
    "    top.append(sorted_cnt[0][0])\n",
    "    top.append(sorted_cnt[1][0])\n",
    "    top.append(sorted_cnt[2][0])\n",
    "    selected_route[i] = top"
   ]
  },
  {
   "cell_type": "code",
   "execution_count": 36,
   "id": "4b6fca7f",
   "metadata": {},
   "outputs": [
    {
     "data": {
      "text/plain": [
       "{0: [200000010, 200000028, 200000078],\n",
       " 1: [229000018, 218000125, 229000035],\n",
       " 2: [210000038, 210000013, 210000001],\n",
       " 3: [217000012, 224000015, 216000010],\n",
       " 4: [204000029, 204000012, 204000005],\n",
       " 5: [214000001, 214000006, 214000014],\n",
       " 6: [224000002, 224000011, 217000009],\n",
       " 7: [238000001, 207000025, 207000068],\n",
       " 8: [229000042, 229000143, 229000267],\n",
       " 9: [208000011, 208000021, 208000014]}"
      ]
     },
     "execution_count": 36,
     "metadata": {},
     "output_type": "execute_result"
    }
   ],
   "source": [
    "selected_route"
   ]
  },
  {
   "cell_type": "code",
   "execution_count": 42,
   "id": "a58fa820",
   "metadata": {},
   "outputs": [],
   "source": [
    "import requests\n",
    "from bs4 import BeautifulSoup\n",
    "\n",
    "top_dict = {}\n",
    "for i in range(10):\n",
    "    bn_list=[]\n",
    "    for j in range(3):\n",
    "        br = 'http://apis.data.go.kr/6410000/busrouteservice/getBusRouteInfoItem?serviceKey=k9sTEVvsgPYra2RkrXzQSnQX0BROQsLNMk1yPFZEId7c76sfg8y8jsrg1oRRzaSt%2B4Gk7ijz0T%2BVcp0hDKNy3A%3D%3D&areaId=0&routeId='+str(selected_route[i][j])\n",
    "        response = requests.get(br)\n",
    "        route = response.content\n",
    "        fn = \"/home/ukjung18/project/candidate.xml\"\n",
    "        with open(fn, \"wb\") as file:\n",
    "            file.write(route)\n",
    "        fp = open(\"/home/ukjung18/project/candidate.xml\",\"r\")\n",
    "        soup = BeautifulSoup(fp, \"html.parser\")\n",
    "        for name in soup.findAll('busrouteinfoitem'):\n",
    "            bn_list.append(name.routename.string)\n",
    "    top_dict[i] = bn_list\n",
    "#         busLine = pd.DataFrame()\n",
    "#         busLine['x'] = x\n",
    "#         busLine['y'] = y\n",
    "#         busLine.to_csv(\"/home/ukjung18/project/busRoute/\"+str(i)+\"/\"+j+\".csv\", mode='w', index=False)"
   ]
  },
  {
   "cell_type": "code",
   "execution_count": 43,
   "id": "839099c5",
   "metadata": {},
   "outputs": [
    {
     "data": {
      "text/plain": [
       "{0: ['900', '301', '62-1'],\n",
       " 1: ['66', '75', '333'],\n",
       " 2: ['75', '3', '50'],\n",
       " 3: ['350', '98', '99-1'],\n",
       " 4: ['200', '50', '57'],\n",
       " 5: ['2', '2-2', '1-1'],\n",
       " 6: ['21', '20-1', '32'],\n",
       " 7: ['35', '11', '25-1'],\n",
       " 8: ['92', '92-1', '922'],\n",
       " 9: ['8-2', '1-2', '20']}"
      ]
     },
     "execution_count": 43,
     "metadata": {},
     "output_type": "execute_result"
    }
   ],
   "source": [
    "top_dict"
   ]
  },
  {
   "cell_type": "code",
   "execution_count": null,
   "id": "80f54e2c",
   "metadata": {},
   "outputs": [],
   "source": []
  }
 ],
 "metadata": {
  "kernelspec": {
   "display_name": "Python 3",
   "language": "python",
   "name": "python3"
  },
  "language_info": {
   "codemirror_mode": {
    "name": "ipython",
    "version": 3
   },
   "file_extension": ".py",
   "mimetype": "text/x-python",
   "name": "python",
   "nbconvert_exporter": "python",
   "pygments_lexer": "ipython3",
   "version": "3.7.4"
  }
 },
 "nbformat": 4,
 "nbformat_minor": 5
}
