{
 "cells": [
  {
   "cell_type": "code",
   "execution_count": 359,
   "id": "c1ce5765",
   "metadata": {},
   "outputs": [],
   "source": [
    "import requests\n",
    "from bs4 import BeautifulSoup\n",
    "from collections import defaultdict"
   ]
  },
  {
   "cell_type": "code",
   "execution_count": 360,
   "id": "bb24b846",
   "metadata": {},
   "outputs": [],
   "source": [
    "rid = defaultdict(list)"
   ]
  },
  {
   "cell_type": "code",
   "execution_count": 361,
   "id": "d24a3498",
   "metadata": {},
   "outputs": [],
   "source": [
    "# <경기도 버스노선 조회 API>로부터 운행지역별 노선번호 목록 조회\n",
    "for i in [13, 2, 11, 15, 12, 28, 14, 25, 27, 17]: # 등록 장애인 수 기준 상위 10개 도시의 지역 id\n",
    "    if i < 10:\n",
    "        areabusroute = 'http://apis.data.go.kr/6410000/busrouteservice/getAreaBusRouteList?serviceKey=k9sTEVvsgPYra2RkrXzQSnQX0BROQsLNMk1yPFZEId7c76sfg8y8jsrg1oRRzaSt%2B4Gk7ijz0T%2BVcp0hDKNy3A%3D%3D&areaId=0'+str(i)\n",
    "    elif i >= 10:\n",
    "        areabusroute = 'http://apis.data.go.kr/6410000/busrouteservice/getAreaBusRouteList?serviceKey=k9sTEVvsgPYra2RkrXzQSnQX0BROQsLNMk1yPFZEId7c76sfg8y8jsrg1oRRzaSt%2B4Gk7ijz0T%2BVcp0hDKNy3A%3D%3D&areaId='+str(i)   \n",
    "    response = requests.get(areabusroute)\n",
    "    routeList = response.content\n",
    "    fileName = \"/home/ukjung18/project/busRouteInfo/AreaBusRoute\"+str(i)+\".xml\"\n",
    "    with open(fileName, \"wb\") as file:\n",
    "        file.write(routeList)\n",
    "    fp = open(\"/home/ukjung18/project/busRouteInfo/AreaBusRoute\"+str(i)+\".xml\",\"r\")\n",
    "    soup = BeautifulSoup(fp, \"html.parser\")\n",
    "    for route in soup.findAll('busroutelist'):\n",
    "        if (route.routetypename.string == '일반형시내버스') | (route.routetypename.string == '일반형농어촌버스') | (route.routetypename.string == '마을버스'):\n",
    "            rid[str(i)].append(route.routeid.string)"
   ]
  },
  {
   "cell_type": "code",
   "execution_count": 362,
   "id": "38be58f1",
   "metadata": {},
   "outputs": [
    {
     "data": {
      "text/plain": [
       "49"
      ]
     },
     "execution_count": 362,
     "metadata": {},
     "output_type": "execute_result"
    }
   ],
   "source": [
    "len(rid['13'])"
   ]
  },
  {
   "cell_type": "code",
   "execution_count": 363,
   "id": "54505c9a",
   "metadata": {},
   "outputs": [],
   "source": [
    "import pandas as pd\n",
    "routeId = pd.DataFrame(dict([(k, pd.Series(v)) for k,v in rid.items()]))"
   ]
  },
  {
   "cell_type": "code",
   "execution_count": 364,
   "id": "1df3280a",
   "metadata": {},
   "outputs": [],
   "source": [
    "# routeIdcpt : 등록 장애인 수 기준 상위 10개 도시\n",
    "routeId.to_csv(\"routeIdcpt.csv\", mode='w', index=False)"
   ]
  },
  {
   "cell_type": "code",
   "execution_count": 377,
   "id": "7aeb45ea",
   "metadata": {},
   "outputs": [],
   "source": [
    "# <경기도 버스노선 조회 API>로부터 노선별 경유정류소 목록 조회\n",
    "for i in [13, 2, 11, 15, 12, 28, 14, 25, 27, 17]:\n",
    "    for j in rid[str(i)]:\n",
    "        x=[]\n",
    "        y=[]\n",
    "        br = 'http://apis.data.go.kr/6410000/busrouteservice/getBusRouteStationList?serviceKey=k9sTEVvsgPYra2RkrXzQSnQX0BROQsLNMk1yPFZEId7c76sfg8y8jsrg1oRRzaSt%2B4Gk7ijz0T%2BVcp0hDKNy3A%3D%3D&areaId=0&routeId='+j\n",
    "        response = requests.get(br)\n",
    "        route = response.content\n",
    "        fileName1 = \"/home/ukjung18/project/busRoute/\"+str(i)+\"/\"+j+\".xml\"\n",
    "        with open(fileName1, \"wb\") as file:\n",
    "            file.write(route)\n",
    "        fp1 = open(\"/home/ukjung18/project/busRoute/\"+str(i)+\"/\"+j+\".xml\",\"r\")\n",
    "        soup = BeautifulSoup(fp1, \"html.parser\")\n",
    "        for stop in soup.findAll('busroutestationlist'):\n",
    "            x.append(stop.x.string)\n",
    "            y.append(stop.y.string)\n",
    "        busLine = pd.DataFrame()\n",
    "        busLine['x'] = x\n",
    "        busLine['y'] = y\n",
    "        busLine.to_csv(\"/home/ukjung18/project/busRoute/\"+str(i)+\"/\"+j+\".csv\", mode='w', index=False)"
   ]
  },
  {
   "cell_type": "code",
   "execution_count": null,
   "id": "e4c1e540",
   "metadata": {},
   "outputs": [],
   "source": []
  }
 ],
 "metadata": {
  "kernelspec": {
   "display_name": "Python 3",
   "language": "python",
   "name": "python3"
  },
  "language_info": {
   "codemirror_mode": {
    "name": "ipython",
    "version": 3
   },
   "file_extension": ".py",
   "mimetype": "text/x-python",
   "name": "python",
   "nbconvert_exporter": "python",
   "pygments_lexer": "ipython3",
   "version": "3.7.4"
  }
 },
 "nbformat": 4,
 "nbformat_minor": 5
}
