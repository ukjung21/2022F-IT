{
 "cells": [
  {
   "cell_type": "code",
   "execution_count": null,
   "id": "f3567728",
   "metadata": {},
   "outputs": [],
   "source": [
    "# reference: https://towardsdatascience.com/multivariate-outlier-detection-in-python-e946cfc843b3"
   ]
  },
  {
   "cell_type": "code",
   "execution_count": 42,
   "id": "355207d1",
   "metadata": {},
   "outputs": [],
   "source": [
    "import pandas as pd\n",
    "import scipy as sp\n",
    "from scipy import linalg\n",
    "import numpy as np\n",
    "\n",
    "df1 = pd.read_csv('/home/ukjung18/project/rel.csv', header=None)\n",
    "df2 = pd.read_csv('/home/ukjung18/project/wf.csv', header=None)\n",
    "df3 = pd.read_csv('/home/ukjung18/project/gh.csv', header=None)\n",
    "df = pd.concat([df1[1:],df2[1:],df3[1:]])\n",
    "df.columns = ['기관명', 'WGS84위도', 'WGS84경도']"
   ]
  },
  {
   "cell_type": "code",
   "execution_count": 43,
   "id": "9d40789f",
   "metadata": {},
   "outputs": [],
   "source": [
    "df = df.reset_index(drop=True)"
   ]
  },
  {
   "cell_type": "code",
   "execution_count": 44,
   "id": "c46ffd63",
   "metadata": {},
   "outputs": [],
   "source": [
    "def mahalanobis(x=None, data=None, cov=None):\n",
    "    \"\"\"Compute the Mahalanobis Distance between each row of x and the data  \n",
    "    x    : vector or matrix of data with, say, p columns.\n",
    "    data : ndarray of the distribution from which Mahalanobis distance of each observation of x is to be computed.\n",
    "    cov  : covariance matrix (p x p) of the distribution. If None, will be computed from data.\n",
    "    \"\"\"\n",
    "    x_minus_mu = x - np.mean(data)\n",
    "    if not cov:\n",
    "        cov = np.cov(data.values.T)\n",
    "    inv_covmat = linalg.inv(cov)\n",
    "    left_term = np.dot(x_minus_mu, inv_covmat)\n",
    "    mahal = np.dot(left_term, x_minus_mu.T)\n",
    "    return mahal.diagonal()"
   ]
  },
  {
   "cell_type": "code",
   "execution_count": 45,
   "id": "6f430523",
   "metadata": {},
   "outputs": [],
   "source": [
    "df_sub = df[['WGS84위도', 'WGS84경도']]\n",
    "df_sub = df_sub.astype(float)\n",
    "df_sub['mahala'] = mahalanobis(x=df_sub, data=df_sub)"
   ]
  },
  {
   "cell_type": "code",
   "execution_count": 46,
   "id": "b604d7f8",
   "metadata": {},
   "outputs": [
    {
     "data": {
      "text/html": [
       "<div>\n",
       "<style scoped>\n",
       "    .dataframe tbody tr th:only-of-type {\n",
       "        vertical-align: middle;\n",
       "    }\n",
       "\n",
       "    .dataframe tbody tr th {\n",
       "        vertical-align: top;\n",
       "    }\n",
       "\n",
       "    .dataframe thead th {\n",
       "        text-align: right;\n",
       "    }\n",
       "</style>\n",
       "<table border=\"1\" class=\"dataframe\">\n",
       "  <thead>\n",
       "    <tr style=\"text-align: right;\">\n",
       "      <th></th>\n",
       "      <th>WGS84위도</th>\n",
       "      <th>WGS84경도</th>\n",
       "      <th>mahala</th>\n",
       "    </tr>\n",
       "  </thead>\n",
       "  <tbody>\n",
       "    <tr>\n",
       "      <td>0</td>\n",
       "      <td>37.660655</td>\n",
       "      <td>126.830347</td>\n",
       "      <td>1.135313</td>\n",
       "    </tr>\n",
       "    <tr>\n",
       "      <td>1</td>\n",
       "      <td>37.660655</td>\n",
       "      <td>126.830347</td>\n",
       "      <td>1.135313</td>\n",
       "    </tr>\n",
       "    <tr>\n",
       "      <td>2</td>\n",
       "      <td>37.459406</td>\n",
       "      <td>126.876809</td>\n",
       "      <td>0.333484</td>\n",
       "    </tr>\n",
       "    <tr>\n",
       "      <td>3</td>\n",
       "      <td>37.447650</td>\n",
       "      <td>126.884979</td>\n",
       "      <td>0.306224</td>\n",
       "    </tr>\n",
       "    <tr>\n",
       "      <td>4</td>\n",
       "      <td>37.591796</td>\n",
       "      <td>127.141059</td>\n",
       "      <td>1.010550</td>\n",
       "    </tr>\n",
       "    <tr>\n",
       "      <td>...</td>\n",
       "      <td>...</td>\n",
       "      <td>...</td>\n",
       "      <td>...</td>\n",
       "    </tr>\n",
       "    <tr>\n",
       "      <td>427</td>\n",
       "      <td>37.210062</td>\n",
       "      <td>127.008030</td>\n",
       "      <td>1.353923</td>\n",
       "    </tr>\n",
       "    <tr>\n",
       "      <td>428</td>\n",
       "      <td>37.207012</td>\n",
       "      <td>127.036257</td>\n",
       "      <td>1.370697</td>\n",
       "    </tr>\n",
       "    <tr>\n",
       "      <td>429</td>\n",
       "      <td>37.216545</td>\n",
       "      <td>127.078499</td>\n",
       "      <td>1.327415</td>\n",
       "    </tr>\n",
       "    <tr>\n",
       "      <td>430</td>\n",
       "      <td>37.216496</td>\n",
       "      <td>127.079942</td>\n",
       "      <td>1.331294</td>\n",
       "    </tr>\n",
       "    <tr>\n",
       "      <td>431</td>\n",
       "      <td>37.211213</td>\n",
       "      <td>127.036367</td>\n",
       "      <td>1.327411</td>\n",
       "    </tr>\n",
       "  </tbody>\n",
       "</table>\n",
       "<p>432 rows × 3 columns</p>\n",
       "</div>"
      ],
      "text/plain": [
       "       WGS84위도     WGS84경도    mahala\n",
       "0    37.660655  126.830347  1.135313\n",
       "1    37.660655  126.830347  1.135313\n",
       "2    37.459406  126.876809  0.333484\n",
       "3    37.447650  126.884979  0.306224\n",
       "4    37.591796  127.141059  1.010550\n",
       "..         ...         ...       ...\n",
       "427  37.210062  127.008030  1.353923\n",
       "428  37.207012  127.036257  1.370697\n",
       "429  37.216545  127.078499  1.327415\n",
       "430  37.216496  127.079942  1.331294\n",
       "431  37.211213  127.036367  1.327411\n",
       "\n",
       "[432 rows x 3 columns]"
      ]
     },
     "execution_count": 46,
     "metadata": {},
     "output_type": "execute_result"
    }
   ],
   "source": [
    "df_sub"
   ]
  },
  {
   "cell_type": "code",
   "execution_count": 47,
   "id": "7f6e7cd1",
   "metadata": {},
   "outputs": [
    {
     "data": {
      "text/plain": [
       "9.21034037197618"
      ]
     },
     "execution_count": 47,
     "metadata": {},
     "output_type": "execute_result"
    }
   ],
   "source": [
    "from scipy.stats import chi2\n",
    "chi2.ppf((1-0.01), df=2)"
   ]
  },
  {
   "cell_type": "code",
   "execution_count": 48,
   "id": "387766a7",
   "metadata": {},
   "outputs": [
    {
     "data": {
      "text/html": [
       "<div>\n",
       "<style scoped>\n",
       "    .dataframe tbody tr th:only-of-type {\n",
       "        vertical-align: middle;\n",
       "    }\n",
       "\n",
       "    .dataframe tbody tr th {\n",
       "        vertical-align: top;\n",
       "    }\n",
       "\n",
       "    .dataframe thead th {\n",
       "        text-align: right;\n",
       "    }\n",
       "</style>\n",
       "<table border=\"1\" class=\"dataframe\">\n",
       "  <thead>\n",
       "    <tr style=\"text-align: right;\">\n",
       "      <th></th>\n",
       "      <th>WGS84위도</th>\n",
       "      <th>WGS84경도</th>\n",
       "      <th>mahala</th>\n",
       "      <th>p_value</th>\n",
       "    </tr>\n",
       "  </thead>\n",
       "  <tbody>\n",
       "    <tr>\n",
       "      <td>52</td>\n",
       "      <td>37.209534</td>\n",
       "      <td>127.642669</td>\n",
       "      <td>10.568128</td>\n",
       "      <td>0.005072</td>\n",
       "    </tr>\n",
       "    <tr>\n",
       "      <td>55</td>\n",
       "      <td>38.054524</td>\n",
       "      <td>127.386184</td>\n",
       "      <td>12.717036</td>\n",
       "      <td>0.001732</td>\n",
       "    </tr>\n",
       "    <tr>\n",
       "      <td>305</td>\n",
       "      <td>37.544094</td>\n",
       "      <td>127.620141</td>\n",
       "      <td>10.310528</td>\n",
       "      <td>0.005769</td>\n",
       "    </tr>\n",
       "    <tr>\n",
       "      <td>306</td>\n",
       "      <td>37.557260</td>\n",
       "      <td>127.780777</td>\n",
       "      <td>16.186967</td>\n",
       "      <td>0.000306</td>\n",
       "    </tr>\n",
       "    <tr>\n",
       "      <td>310</td>\n",
       "      <td>37.301482</td>\n",
       "      <td>127.625317</td>\n",
       "      <td>9.711347</td>\n",
       "      <td>0.007784</td>\n",
       "    </tr>\n",
       "    <tr>\n",
       "      <td>311</td>\n",
       "      <td>37.325586</td>\n",
       "      <td>127.668621</td>\n",
       "      <td>11.038884</td>\n",
       "      <td>0.004008</td>\n",
       "    </tr>\n",
       "  </tbody>\n",
       "</table>\n",
       "</div>"
      ],
      "text/plain": [
       "       WGS84위도     WGS84경도     mahala   p_value\n",
       "52   37.209534  127.642669  10.568128  0.005072\n",
       "55   38.054524  127.386184  12.717036  0.001732\n",
       "305  37.544094  127.620141  10.310528  0.005769\n",
       "306  37.557260  127.780777  16.186967  0.000306\n",
       "310  37.301482  127.625317   9.711347  0.007784\n",
       "311  37.325586  127.668621  11.038884  0.004008"
      ]
     },
     "execution_count": 48,
     "metadata": {},
     "output_type": "execute_result"
    }
   ],
   "source": [
    "# Compute the P-Values\n",
    "df_sub['p_value'] = 1 - chi2.cdf(df_sub['mahala'], 2)\n",
    "\n",
    "# Extreme values with a significance level of 0.01\n",
    "df_sub.loc[df_sub.p_value < 0.01]"
   ]
  },
  {
   "cell_type": "code",
   "execution_count": 53,
   "id": "440b0279",
   "metadata": {},
   "outputs": [],
   "source": [
    "anomaly = df.loc[[52, 55, 305, 306, 310, 311]]"
   ]
  },
  {
   "cell_type": "code",
   "execution_count": 51,
   "id": "fb1bcba8",
   "metadata": {},
   "outputs": [],
   "source": [
    "new_df = df.drop([52, 55, 305, 306, 310, 311])"
   ]
  },
  {
   "cell_type": "code",
   "execution_count": 52,
   "id": "31c110ec",
   "metadata": {},
   "outputs": [],
   "source": [
    "new_df.to_csv(\"disabledFacility.csv\", mode='w', index=False)"
   ]
  },
  {
   "cell_type": "code",
   "execution_count": 55,
   "id": "1c7d538a",
   "metadata": {},
   "outputs": [],
   "source": [
    "anomaly.to_csv(\"anomaly.csv\", mode='w', index=False)"
   ]
  },
  {
   "cell_type": "code",
   "execution_count": null,
   "id": "b73552a5",
   "metadata": {},
   "outputs": [],
   "source": []
  }
 ],
 "metadata": {
  "kernelspec": {
   "display_name": "Python 3",
   "language": "python",
   "name": "python3"
  },
  "language_info": {
   "codemirror_mode": {
    "name": "ipython",
    "version": 3
   },
   "file_extension": ".py",
   "mimetype": "text/x-python",
   "name": "python",
   "nbconvert_exporter": "python",
   "pygments_lexer": "ipython3",
   "version": "3.7.4"
  }
 },
 "nbformat": 4,
 "nbformat_minor": 5
}
